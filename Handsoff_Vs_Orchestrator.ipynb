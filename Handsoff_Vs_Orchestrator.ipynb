{
  "nbformat": 4,
  "nbformat_minor": 0,
  "metadata": {
    "colab": {
      "provenance": [],
      "authorship_tag": "ABX9TyPNP6CYbZhmPoIxuYSOEytw",
      "include_colab_link": true
    },
    "kernelspec": {
      "name": "python3",
      "display_name": "Python 3"
    },
    "language_info": {
      "name": "python"
    }
  },
  "cells": [
    {
      "cell_type": "markdown",
      "metadata": {
        "id": "view-in-github",
        "colab_type": "text"
      },
      "source": [
        "<a href=\"https://colab.research.google.com/github/Naveed101633/Agentic-AI-Concepts/blob/main/Handsoff_Vs_Orchestrator.ipynb\" target=\"_parent\"><img src=\"https://colab.research.google.com/assets/colab-badge.svg\" alt=\"Open In Colab\"/></a>"
      ]
    },
    {
      "cell_type": "markdown",
      "source": [
        "* Here You will get complete concept of Handsoff and Orchestrator Agents Example* *and* I hope you will easily get the logic of both... By (Naveed Ahmed)"
      ],
      "metadata": {
        "id": "o-L2DP2pMBMt"
      }
    },
    {
      "cell_type": "markdown",
      "source": [
        "# HandOff Detail Example"
      ],
      "metadata": {
        "id": "wQ9fywHkvx-s"
      }
    },
    {
      "cell_type": "markdown",
      "source": [
        "# Import OpenAI-Agents-SDk"
      ],
      "metadata": {
        "id": "68IgFRssvS0E"
      }
    },
    {
      "cell_type": "code",
      "execution_count": null,
      "metadata": {
        "colab": {
          "base_uri": "https://localhost:8080/"
        },
        "id": "YuZ4r0xosaZ3",
        "outputId": "a24b595c-f59a-4289-93f5-eeabbcf9f341"
      },
      "outputs": [
        {
          "output_type": "stream",
          "name": "stdout",
          "text": [
            "\u001b[?25l   \u001b[90m━━━━━━━━━━━━━━━━━━━━━━━━━━━━━━━━━━━━━━━━\u001b[0m \u001b[32m0.0/116.9 kB\u001b[0m \u001b[31m?\u001b[0m eta \u001b[36m-:--:--\u001b[0m\r\u001b[2K   \u001b[90m━━━━━━━━━━━━━━━━━━━━━━━━━━━━━━━━━━━━━━━━\u001b[0m \u001b[32m116.9/116.9 kB\u001b[0m \u001b[31m4.1 MB/s\u001b[0m eta \u001b[36m0:00:00\u001b[0m\n",
            "\u001b[?25h\u001b[?25l   \u001b[90m━━━━━━━━━━━━━━━━━━━━━━━━━━━━━━━━━━━━━━━━\u001b[0m \u001b[32m0.0/129.3 kB\u001b[0m \u001b[31m?\u001b[0m eta \u001b[36m-:--:--\u001b[0m\r\u001b[2K   \u001b[90m━━━━━━━━━━━━━━━━━━━━━━━━━━━━━━━━━━━━━━━━\u001b[0m \u001b[32m129.3/129.3 kB\u001b[0m \u001b[31m8.2 MB/s\u001b[0m eta \u001b[36m0:00:00\u001b[0m\n",
            "\u001b[2K   \u001b[90m━━━━━━━━━━━━━━━━━━━━━━━━━━━━━━━━━━━━━━━━\u001b[0m \u001b[32m119.5/119.5 kB\u001b[0m \u001b[31m7.7 MB/s\u001b[0m eta \u001b[36m0:00:00\u001b[0m\n",
            "\u001b[2K   \u001b[90m━━━━━━━━━━━━━━━━━━━━━━━━━━━━━━━━━━━━━━━━\u001b[0m \u001b[32m44.4/44.4 kB\u001b[0m \u001b[31m2.5 MB/s\u001b[0m eta \u001b[36m0:00:00\u001b[0m\n",
            "\u001b[2K   \u001b[90m━━━━━━━━━━━━━━━━━━━━━━━━━━━━━━━━━━━━━━━━\u001b[0m \u001b[32m72.0/72.0 kB\u001b[0m \u001b[31m4.3 MB/s\u001b[0m eta \u001b[36m0:00:00\u001b[0m\n",
            "\u001b[2K   \u001b[90m━━━━━━━━━━━━━━━━━━━━━━━━━━━━━━━━━━━━━━━━\u001b[0m \u001b[32m62.5/62.5 kB\u001b[0m \u001b[31m3.6 MB/s\u001b[0m eta \u001b[36m0:00:00\u001b[0m\n",
            "\u001b[?25h"
          ]
        }
      ],
      "source": [
        "!pip install -qU openai-agents"
      ]
    },
    {
      "cell_type": "markdown",
      "source": [
        "# Async Func"
      ],
      "metadata": {
        "id": "Kdhy4wAkva9E"
      }
    },
    {
      "cell_type": "code",
      "source": [
        "# ✅ Imports\n",
        "import asyncio\n",
        "import nest_asyncio\n",
        "\n",
        "nest_asyncio.apply()"
      ],
      "metadata": {
        "id": "YwPuUcgOvSDt"
      },
      "execution_count": null,
      "outputs": []
    },
    {
      "cell_type": "markdown",
      "source": [
        "# Global Level Agent Setting"
      ],
      "metadata": {
        "id": "owzM9q1ZvmIT"
      }
    },
    {
      "cell_type": "code",
      "source": [
        "# ✅ Imports\n",
        "import asyncio\n",
        "import nest_asyncio\n",
        "from google.colab import userdata\n",
        "from openai import AsyncOpenAI\n",
        "from agents import (\n",
        "    Agent,\n",
        "    Runner,\n",
        "    function_tool,\n",
        "    set_default_openai_api,\n",
        "    set_default_openai_client,\n",
        "    set_tracing_disabled\n",
        ")\n",
        "\n",
        "# ✅ Fix event loop issue in Colab\n",
        "nest_asyncio.apply()\n",
        "\n",
        "# ✅ Gemini model setup\n",
        "BASE_URL = 'https://generativelanguage.googleapis.com/v1beta/openai/'\n",
        "API_KEY = userdata.get('GOOGLE_API_KEY')\n",
        "MODEL_NAME = \"gemini-2.0-flash\"\n",
        "\n",
        "client = AsyncOpenAI(base_url=BASE_URL, api_key=API_KEY)\n",
        "set_default_openai_client(client=client, use_for_tracing=False)\n",
        "set_default_openai_api(\"chat_completions\")\n",
        "set_tracing_disabled(disabled=True)"
      ],
      "metadata": {
        "id": "XzmqE_Hjvezv"
      },
      "execution_count": null,
      "outputs": []
    },
    {
      "cell_type": "markdown",
      "source": [
        "# Creating Tools or Function for Calling"
      ],
      "metadata": {
        "id": "9WGU9C9BxM_W"
      }
    },
    {
      "cell_type": "markdown",
      "source": [
        "***Creating Tools/Function***"
      ],
      "metadata": {
        "id": "CzU4GEGxxXPO"
      }
    },
    {
      "cell_type": "code",
      "source": [
        "# Function for Product Search\n",
        "@function_tool\n",
        "def list_womens_clothing(category: str = \"all\") -> str:\n",
        "    inventory = {\n",
        "        \"dresses\": [\"Red Evening Dress - $120\", \"Floral Summer Dress - $80\"],\n",
        "        \"tops\": [\"Silk Blouse - $60\", \"White Crop Top - $35\"],\n",
        "        \"all\": [\"Red Evening Dress - $120\", \"Floral Summer Dress - $80\",\n",
        "                \"Silk Blouse - $60\", \"White Crop Top - $35\"]\n",
        "    }\n",
        "    items = inventory.get(category.lower(), inventory[\"all\"])\n",
        "    return \"\\n\".join(items)\n",
        "\n",
        "\n",
        "\n",
        "# Function for Support Agent\n",
        "\n",
        "@function_tool\n",
        "def answer_product_query(question: str) -> str:\n",
        "    q = question.lower()\n",
        "    if \"color\" in q:\n",
        "        return \"This item is available in red, blue, and black.\"\n",
        "    elif \"size\" in q:\n",
        "        return \"We have sizes XS, S, M, L, and XL.\"\n",
        "    elif any(keyword in q for keyword in [\"discount\", \"negotiate\", \"deal\", \"offer\"]):\n",
        "        return \"We offer a 10% discount on orders above $100.\"\n",
        "    else:\n",
        "        return \"Please clarify your question about the product.\"\n",
        "\n",
        "\n",
        "\n",
        "# Function of Payment Handling\n",
        "@function_tool\n",
        "def process_billing(name: str = \"Unknown\", email: str = \"unknown@example.com\", payment_method: str = \"credit card\") -> str:\n",
        "    return f\"Billing processed for {name} using {payment_method}. A confirmation has been sent to {email}.\""
      ],
      "metadata": {
        "id": "VIS15DLuwppb"
      },
      "execution_count": null,
      "outputs": []
    },
    {
      "cell_type": "markdown",
      "source": [
        "# Building Shopping, Support, Billing Agents through Handoffs"
      ],
      "metadata": {
        "id": "ZlZXm9zIFLEj"
      }
    },
    {
      "cell_type": "markdown",
      "source": [
        "***Let's Creating Agents Now***"
      ],
      "metadata": {
        "id": "x0QQNjtEx5a0"
      }
    },
    {
      "cell_type": "code",
      "source": [
        "# ✅ Agents\n",
        "shopping_agent = Agent(\n",
        "    name=\"Shopping Assistant\",\n",
        "    instructions=\"\"\"\n",
        "You help users explore women’s clothing. Use the clothing tool to list products for the requested category.\n",
        "Format the response exactly as: '🛍️ Shopping Agent: OK. I found two dresses: Red Evening Dress for $120 and Floral Summer Dress for $80.' when the category is 'dresses'.\n",
        "For other categories, adapt the count and items accordingly, keeping the same structure.\n",
        "    \"\"\",\n",
        "    tools=[list_womens_clothing],\n",
        "    model=MODEL_NAME\n",
        ")\n",
        "\n",
        "support_agent = Agent(\n",
        "    name=\"Support Agent\",\n",
        "    instructions=\"\"\"\n",
        "You handle questions about item details or pricing. Use your tool to answer.\n",
        "For discount-related questions, format the response exactly as: '📦 Support Agent: We offer a 10% discount on orders above $100.'\n",
        "For other questions, adapt the response using the tool’s output with the prefix '📦 Support Output: '.\n",
        "    \"\"\",\n",
        "    tools=[answer_product_query],\n",
        "    model=MODEL_NAME\n",
        ")\n",
        "\n",
        "billing_agent = Agent(\n",
        "    name=\"Billing Agent\",\n",
        "    instructions=\"\"\"\n",
        "You process billing using your tool. Use default values for name and email if not provided, and accept 'credit card' as the payment method.\n",
        "Format the response exactly as: '💳 Billing Agent: OK. I've processed the billing using the default name and email with the provided credit card. A confirmation has been sent to the default email.'\n",
        "    \"\"\",\n",
        "    tools=[process_billing],\n",
        "    model=MODEL_NAME\n",
        ")"
      ],
      "metadata": {
        "id": "Cj04lgxYx-sU"
      },
      "execution_count": null,
      "outputs": []
    },
    {
      "cell_type": "markdown",
      "source": [
        "# Triage Agent based on Handsoff"
      ],
      "metadata": {
        "id": "XlHicXU6-mD2"
      }
    },
    {
      "cell_type": "code",
      "source": [
        "async def main():\n",
        "    triage_agent = Agent(\n",
        "        name=\"Triage Agent\",\n",
        "        instructions=\"\"\"\n",
        "You route user queries to one of the following agents based on the query content:\n",
        "- If the user mentions clothing, dresses, tops, or wants to browse/shop, hand off to the Shopping Assistant.\n",
        "- If the user asks about size, color, discounts, deals, or price, hand off to the Support Agent.\n",
        "- If the user mentions checkout, payment, or billing, hand off to the Billing Agent.\n",
        "If unsure, ask the user to clarify their request.\n",
        "        \"\"\",\n",
        "        handoffs=[shopping_agent, support_agent, billing_agent],\n",
        "        model=MODEL_NAME\n",
        "    )\n",
        "\n",
        "    # Test 1: Shopping\n",
        "    result1 = await Runner.run(triage_agent, \"Can you show me some summer dresses?\")\n",
        "    print(result1.final_output)\n",
        "\n",
        "    # Test 2: Support\n",
        "    result2 = await Runner.run(triage_agent, \"Is there a discount if I buy two items?\")\n",
        "    print( result2.final_output)\n",
        "\n",
        "    # Test 3: Billing\n",
        "    result3 = await Runner.run(triage_agent, \"I’d like to checkout with my credit card.\")\n",
        "    print(result3.final_output)\n",
        "\n",
        "# ✅ Run the tests\n",
        "if __name__ == \"__main__\":\n",
        "    asyncio.run(main())"
      ],
      "metadata": {
        "colab": {
          "base_uri": "https://localhost:8080/"
        },
        "id": "Mdl7GwEczO9A",
        "outputId": "21fb242d-7cac-4bb4-b627-33439f1dfb29"
      },
      "execution_count": null,
      "outputs": [
        {
          "output_type": "stream",
          "name": "stdout",
          "text": [
            "🛍️ Shopping Agent: OK. I found two dresses: Red Evening Dress for $120 and Floral Summer Dress for $80.\n",
            "\n",
            "📦 Support Agent: We offer a 10% discount on orders above $100.\n",
            "\n",
            "💳 Billing Agent: OK. I've processed the billing using the default name and email with the provided credit card. A confirmation has been sent to the default email.\n",
            "\n"
          ]
        }
      ]
    },
    {
      "cell_type": "markdown",
      "source": [
        "# Let's explore now Orchestrator Agent Concept through (as.tool())"
      ],
      "metadata": {
        "id": "pgDoD-8yGpiK"
      }
    },
    {
      "cell_type": "code",
      "source": [
        "from google.colab import userdata\n",
        "from openai import AsyncOpenAI\n",
        "from agents import Agent, Runner, function_tool, set_default_openai_client, set_default_openai_api, set_tracing_disabled\n",
        "\n",
        "# ✅ Gemini API setup\n",
        "BASE_URL = 'https://generativelanguage.googleapis.com/v1beta/openai/'\n",
        "API_KEY = userdata.get('GOOGLE_API_KEY')\n",
        "MODEL_NAME = \"gemini-2.0-flash\"\n",
        "\n",
        "client = AsyncOpenAI(base_url=BASE_URL, api_key=API_KEY)\n",
        "set_default_openai_client(client=client, use_for_tracing=False)\n",
        "set_default_openai_api(\"chat_completions\")\n",
        "set_tracing_disabled(disabled=True)\n",
        "\n",
        "# ✅ Tools\n",
        "@function_tool\n",
        "def list_products(category: str = \"all\") -> str:\n",
        "    inventory = {\n",
        "        \"clothing\": [\"T-Shirt - $20\", \"Jeans - $50\"],\n",
        "        \"accessories\": [\"Sunglasses - $30\", \"Hat - $15\"],\n",
        "        \"all\": [\"T-Shirt - $20\", \"Jeans - $50\", \"Sunglasses - $30\", \"Hat - $15\"]\n",
        "    }\n",
        "    items = inventory.get(category.lower(), inventory[\"all\"])\n",
        "    return f\"OK. I found these products: {', '.join(items)}.\"\n",
        "\n",
        "@function_tool\n",
        "def answer_support_query(issue: str) -> str:\n",
        "    issue = issue.lower()\n",
        "    if \"return\" in issue or \"refund\" in issue:\n",
        "        return \"We offer a 30-day return policy. Please provide your order number to proceed.\"\n",
        "    elif \"delivery\" in issue or \"shipping\" in issue:\n",
        "        return \"You can track your order using the link in your confirmation email.\"\n",
        "    else:\n",
        "        return \"Please clarify your support issue, and I'll assist you.\"\n",
        "\n",
        "# ✅ Agents\n",
        "shopping_agent = Agent(\n",
        "    name=\"Shopping Assistant\",\n",
        "    instructions=\"\"\"\n",
        "You assist users in finding products and making purchase decisions.\n",
        "Use the list_products tool to show available products.\n",
        "Format your response as: 'Shopping Agent: OK. I found these products: [items].'\n",
        "    \"\"\",\n",
        "    tools=[list_products],\n",
        "    model=MODEL_NAME\n",
        ")\n",
        "\n",
        "support_agent = Agent(\n",
        "    name=\"Support Agent\",\n",
        "    instructions=\"\"\"\n",
        "You help users with post-purchase support and returns.\n",
        "Use the answer_support_query tool to address support issues.\n",
        "Format your response as: ' Support Agent: [tool response].'\n",
        "    \"\"\",\n",
        "    tools=[answer_support_query],\n",
        "    model=MODEL_NAME\n",
        ")\n",
        "\n",
        "# Convert agents into tools with required arguments\n",
        "shopping_tool = shopping_agent.as_tool(\n",
        "    tool_name=\"shopping_assistant\",\n",
        "    tool_description=\"Routes queries about browsing or purchasing products to the Shopping Assistant.\"\n",
        ")\n",
        "\n",
        "support_tool = support_agent.as_tool(\n",
        "    tool_name=\"support_assistant\",\n",
        "    tool_description=\"Routes queries about post-purchase support, returns, or delivery to the Support Agent.\"\n",
        ")\n",
        "\n",
        "\n",
        "\n",
        "# Define an orchestrator agent that delegates tasks\n",
        "orchestrator_agent = Agent(\n",
        "    name=\"Orchestrator Agent\",\n",
        "    instructions=\"\"\"\n",
        "You route user queries to the appropriate agent based on their nature:\n",
        "- If the query involves buying, shopping, products, or categories like clothing or accessories, route to the Shopping Assistant using the shopping_assistant tool.\n",
        "- If the query involves help, support, returns, refunds, or delivery, route to the Support Agent using the support_assistant tool.\n",
        "If the query is unclear or doesn't match these categories, respond with: 'Orchestrator Agent: Please clarify your request.'\n",
        "    \"\"\",\n",
        "    tools=[shopping_tool, support_tool],\n",
        "    model=MODEL_NAME\n",
        ")\n",
        "\n",
        "\n",
        "\n",
        "# ✅ Test the orchestrator agent with sample inputs\n",
        "def main():\n",
        "    result1 = Runner.run_sync(orchestrator_agent, \"Can you show me some clothing products?\")\n",
        "    print(result1.final_output)\n",
        "\n",
        "    result2 = Runner.run_sync(orchestrator_agent, \"I need help with a recent purchase.\")\n",
        "    print( result2.final_output)\n",
        "\n",
        "    result3 = Runner.run_sync(orchestrator_agent, \"What do you do?\")\n",
        "    print(result3.final_output)\n",
        "\n",
        "if __name__ == \"__main__\":\n",
        "    main()"
      ],
      "metadata": {
        "colab": {
          "base_uri": "https://localhost:8080/"
        },
        "id": "FWxsG9z6JpKW",
        "outputId": "00c7689a-bb87-4053-9006-5853339c8371"
      },
      "execution_count": null,
      "outputs": [
        {
          "output_type": "stream",
          "name": "stdout",
          "text": [
            "Shopping Agent: OK. I found these products: OK. I found these products: T-Shirt - $20, Jeans - $50.\n",
            "\n",
            "Support Agent: What is the issue you are facing with your recent purchase?\n",
            "\n",
            "Orchestrator Agent: Please clarify your request.\n",
            "\n"
          ]
        }
      ]
    }
  ]
}